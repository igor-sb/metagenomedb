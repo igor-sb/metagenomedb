{
 "cells": [
  {
   "cell_type": "code",
   "execution_count": 2,
   "metadata": {},
   "outputs": [],
   "source": [
    "# test_parallel_downloader.py\n",
    "\n",
    "import pytest\n",
    "import os\n",
    "import filecmp\n",
    "from src.genome_assemblies.download import download_assembly_summaries\n",
    "import responses\n"
   ]
  },
  {
   "cell_type": "code",
   "execution_count": 8,
   "metadata": {},
   "outputs": [],
   "source": [
    "def test_download():\n",
    "    # Sample URL to test with\n",
    "    url = \"ftp://ftp.ncbi.nlm.nih.gov/genomes/refseq/archaea/assembly_summary.txt\"\n",
    "\n",
    "    # Mock the HTTP request and respond with the content from the local file\n",
    "    with responses.RequestsMock() as rsps:\n",
    "        rsps.add(responses.GET, url, body=open(\"tests/file1.txt\", \"rb\").read(), status=200)\n",
    "\n",
    "        # Call the function to be tested\n",
    "        result = download_assembly_summaries('data/', 'archaea', timestamp=False)\n",
    "\n",
    "    # Save the downloaded content as a snapshot\n",
    "    with open(\"snapshot_file1.txt\", \"w\") as snapshot_file:\n",
    "        snapshot_file.write(result)\n",
    "\n",
    "    # Assert that the downloaded content matches the reference snapshot\n",
    "    assert filecmp.cmp(\"snapshot_file1.txt\", \"reference_file1.txt\")\n"
   ]
  },
  {
   "cell_type": "code",
   "execution_count": 9,
   "metadata": {},
   "outputs": [
    {
     "ename": "AssertionError",
     "evalue": "Not all requests have been executed [('GET', 'http://example.com/file1.txt')]",
     "output_type": "error",
     "traceback": [
      "\u001b[0;31m---------------------------------------------------------------------------\u001b[0m",
      "\u001b[0;31mAssertionError\u001b[0m                            Traceback (most recent call last)",
      "Cell \u001b[0;32mIn[9], line 1\u001b[0m\n\u001b[0;32m----> 1\u001b[0m test_download()\n",
      "Cell \u001b[0;32mIn[8], line 6\u001b[0m, in \u001b[0;36mtest_download\u001b[0;34m()\u001b[0m\n\u001b[1;32m      3\u001b[0m url \u001b[39m=\u001b[39m \u001b[39m\"\u001b[39m\u001b[39mhttp://example.com/file1.txt\u001b[39m\u001b[39m\"\u001b[39m\n\u001b[1;32m      5\u001b[0m \u001b[39m# Mock the HTTP request and respond with the content from the local file\u001b[39;00m\n\u001b[0;32m----> 6\u001b[0m \u001b[39mwith\u001b[39;49;00m responses\u001b[39m.\u001b[39;49mRequestsMock() \u001b[39mas\u001b[39;49;00m rsps:\n\u001b[1;32m      7\u001b[0m     rsps\u001b[39m.\u001b[39;49madd(responses\u001b[39m.\u001b[39;49mGET, url, body\u001b[39m=\u001b[39;49m\u001b[39mopen\u001b[39;49m(\u001b[39m\"\u001b[39;49m\u001b[39mtests/file1.txt\u001b[39;49m\u001b[39m\"\u001b[39;49m, \u001b[39m\"\u001b[39;49m\u001b[39mrb\u001b[39;49m\u001b[39m\"\u001b[39;49m)\u001b[39m.\u001b[39;49mread(), status\u001b[39m=\u001b[39;49m\u001b[39m200\u001b[39;49m)\n\u001b[1;32m      9\u001b[0m     \u001b[39m# Call the function to be tested\u001b[39;49;00m\n",
      "File \u001b[0;32m~/.cache/pypoetry/virtualenvs/cicd-template-9LUxYy_u-py3.11/lib/python3.11/site-packages/responses/__init__.py:939\u001b[0m, in \u001b[0;36mRequestsMock.__exit__\u001b[0;34m(self, type, value, traceback)\u001b[0m\n\u001b[1;32m    937\u001b[0m success \u001b[39m=\u001b[39m \u001b[39mtype\u001b[39m \u001b[39mis\u001b[39;00m \u001b[39mNone\u001b[39;00m\n\u001b[1;32m    938\u001b[0m \u001b[39mtry\u001b[39;00m:\n\u001b[0;32m--> 939\u001b[0m     \u001b[39mself\u001b[39;49m\u001b[39m.\u001b[39;49mstop(allow_assert\u001b[39m=\u001b[39;49msuccess)\n\u001b[1;32m    940\u001b[0m \u001b[39mfinally\u001b[39;00m:\n\u001b[1;32m    941\u001b[0m     \u001b[39mself\u001b[39m\u001b[39m.\u001b[39mreset()\n",
      "File \u001b[0;32m~/.cache/pypoetry/virtualenvs/cicd-template-9LUxYy_u-py3.11/lib/python3.11/site-packages/responses/__init__.py:1158\u001b[0m, in \u001b[0;36mRequestsMock.stop\u001b[0;34m(self, allow_assert)\u001b[0m\n\u001b[1;32m   1156\u001b[0m not_called \u001b[39m=\u001b[39m [m \u001b[39mfor\u001b[39;00m m \u001b[39min\u001b[39;00m \u001b[39mself\u001b[39m\u001b[39m.\u001b[39mregistered() \u001b[39mif\u001b[39;00m m\u001b[39m.\u001b[39mcall_count \u001b[39m==\u001b[39m \u001b[39m0\u001b[39m]\n\u001b[1;32m   1157\u001b[0m \u001b[39mif\u001b[39;00m not_called:\n\u001b[0;32m-> 1158\u001b[0m     \u001b[39mraise\u001b[39;00m \u001b[39mAssertionError\u001b[39;00m(\n\u001b[1;32m   1159\u001b[0m         \u001b[39m\"\u001b[39m\u001b[39mNot all requests have been executed \u001b[39m\u001b[39m{0!r}\u001b[39;00m\u001b[39m\"\u001b[39m\u001b[39m.\u001b[39mformat(\n\u001b[1;32m   1160\u001b[0m             [(match\u001b[39m.\u001b[39mmethod, match\u001b[39m.\u001b[39murl) \u001b[39mfor\u001b[39;00m match \u001b[39min\u001b[39;00m not_called]\n\u001b[1;32m   1161\u001b[0m         )\n\u001b[1;32m   1162\u001b[0m     )\n",
      "\u001b[0;31mAssertionError\u001b[0m: Not all requests have been executed [('GET', 'http://example.com/file1.txt')]"
     ]
    }
   ],
   "source": [
    "test_download()"
   ]
  }
 ],
 "metadata": {
  "kernelspec": {
   "display_name": "cicd-template-9LUxYy_u-py3.11",
   "language": "python",
   "name": "python3"
  },
  "language_info": {
   "codemirror_mode": {
    "name": "ipython",
    "version": 3
   },
   "file_extension": ".py",
   "mimetype": "text/x-python",
   "name": "python",
   "nbconvert_exporter": "python",
   "pygments_lexer": "ipython3",
   "version": "3.11.2"
  },
  "orig_nbformat": 4
 },
 "nbformat": 4,
 "nbformat_minor": 2
}
